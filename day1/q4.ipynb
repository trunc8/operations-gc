{
  "nbformat": 4,
  "nbformat_minor": 0,
  "metadata": {
    "colab": {
      "name": "Operations-GC-Day1-Q4.ipynb",
      "provenance": []
    },
    "kernelspec": {
      "name": "python3",
      "display_name": "Python 3"
    }
  },
  "cells": [
    {
      "cell_type": "code",
      "metadata": {
        "id": "E_m7upYk1hF4"
      },
      "source": [
        "!pip install -q pyomo\n",
        "!apt-get install -y -qq coinor-cbc"
      ],
      "execution_count": null,
      "outputs": []
    },
    {
      "cell_type": "code",
      "metadata": {
        "id": "8zX_3ObN1ioZ"
      },
      "source": [
        "import numpy as np\n",
        "# ASSUMPTION: Modelling date as an integer for simplicity\n",
        "source = {\"loc\": [\"Sangli\",\"Nashik\",\"Dhule\"],\n",
        "          \"qty\": [40,50,60],\n",
        "          \"date\": [10,15,26]}\n",
        "destination = {\"loc\": [\"Powai\",\"Mahim\",\"Chembur\"],\n",
        "               \"qty\": [10,50,60],\n",
        "               \"date\": [20,22,30]}\n",
        "s_len = len(source)\n",
        "d_len = len(destination)\n",
        "\n",
        "# alpha: Indicator variables(0 or 1) whether source i is supplying dest j\n",
        "alpha = np.arange(1,s_len*d_len+1)\n",
        "alpha_idx = np.reshape(np.arange(1,s_len*d_len+1),(s_len,d_len))\n",
        "\n",
        "# x: Quantity variable delivered by source i to dest j\n",
        "x = np.arange(1,s_len*d_len+1)\n",
        "x_idx = np.reshape(np.arange(1,s_len*d_len+1),(s_len,d_len))\n",
        "\n",
        "# Very large number\n",
        "M = 999999"
      ],
      "execution_count": 16,
      "outputs": []
    },
    {
      "cell_type": "code",
      "metadata": {
        "id": "olJNa8YF45jR"
      },
      "source": [
        "# Building the model\n",
        "\n",
        "from pyomo.environ import *\n",
        "\n",
        "m = ConcreteModel()\n",
        "\n",
        "m.alpha = Var(alpha,domain=Binary) # Variables\n",
        "m.x = Var(x,domain=NonNegativeReals)\n",
        "\n",
        "weight = 1\n",
        "# The weight can be increased to give more priority to minimizing number of assignments\n",
        "# Given instructions: First maximize demand met, minimize number of assignments secondarily\n",
        "# Order of x(demand met) >>> Order of indicator variables alpha\n",
        "# Therefore, value of weight=1 is deemed good for our requirements\n",
        "m.obj = Objective(expr=sum(m.x[i+1] for i in range(len(x))) - \n",
        "                  weight*sum(m.alpha[i+1] for i in range(len(alpha))),sense=maximize) # Objective\n",
        "\n",
        "m.constraints = ConstraintList()\n",
        "for i in range(s_len):\n",
        "  for j in range(d_len):\n",
        "    m.constraints.add(expr=source[\"date\"][i] <= destination[\"date\"][j] + M*(1-m.alpha[alpha_idx[i,j]]))\n",
        "\n",
        "for i in range(s_len):\n",
        "  for j in range(d_len):\n",
        "    m.constraints.add(expr=m.x[x_idx[i,j]] <= M*m.alpha[alpha_idx[i,j]])\n",
        "\n",
        "for i in range(s_len):\n",
        "  m.constraints.add(expr=sum(m.x[x_idx[i,j]] for j in range(d_len)) <= source[\"qty\"][i])\n",
        "\n",
        "for j in range(d_len):\n",
        "  m.constraints.add(expr=sum(m.x[x_idx[i,j]] for i in range(s_len)) <= destination[\"qty\"][j])\n",
        "\n",
        "# m.pprint()"
      ],
      "execution_count": 29,
      "outputs": []
    },
    {
      "cell_type": "code",
      "metadata": {
        "colab": {
          "base_uri": "https://localhost:8080/"
        },
        "id": "1cEcqYUq84F6",
        "outputId": "91fed597-5bd0-4e12-8ce2-985f6ecd51dd"
      },
      "source": [
        "opt = SolverFactory('cbc')\n",
        "result = opt.solve(m)\n",
        "print(\"Status :\",result.solver.status)\n",
        "print(\"Termination condition :\",result.solver.termination_condition)\n",
        "x_optimal = np.reshape(np.arange(1,s_len*d_len+1),(s_len,d_len))\n",
        "for i in range(s_len):\n",
        "  for j in range(d_len):\n",
        "    x_optimal[i,j] = m.x[x_idx[i,j]].value\n",
        "print(x_optimal)"
      ],
      "execution_count": 31,
      "outputs": [
        {
          "output_type": "stream",
          "text": [
            "Status : ok\n",
            "Termination condition : optimal\n",
            "[[10  0  0]\n",
            " [ 0 50  0]\n",
            " [ 0  0 60]]\n"
          ],
          "name": "stdout"
        }
      ]
    }
  ]
}